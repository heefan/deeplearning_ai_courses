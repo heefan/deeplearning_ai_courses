{
 "cells": [
  {
   "cell_type": "markdown",
   "metadata": {},
   "source": [
    "# Part 5 - Manually Updating the State\n",
    "\n",
    "### 为什么手动更新状态？\n",
    "这个还是和Human in loop相关。 P4时候我已经有了一个疑问，当条件发生时，人该如何控制流程。本节提供方法更新状态，让流程继续。 \n",
    "\n",
    "### 本节重点知识是什么？\n",
    "\n",
    "\n",
    "\n",
    "### 在产品化中要还需要哪些？\n",
    "\n",
    "\n",
    "### 复习\n",
    "\n",
    "API Reference:    \n",
    "* [AIMessage](https://python.langchain.com/api_reference/core/messages/langchain_core.messages.ai.AIMessage.html)    \n",
    "* [ToolMessage](https://python.langchain.com/api_reference/core/messages/langchain_core.messages.tool.ToolMessage.html)\n"
   ]
  },
  {
   "cell_type": "markdown",
   "metadata": {},
   "source": [
    "## Step1: 创建Graph `COPY` "
   ]
  },
  {
   "cell_type": "markdown",
   "metadata": {},
   "source": []
  },
  {
   "cell_type": "code",
   "execution_count": 25,
   "metadata": {},
   "outputs": [
    {
     "data": {
      "image/png": "[encoded data removed]",
      "text/plain": [
       "<IPython.core.display.Image object>"
      ]
     },
     "metadata": {},
     "output_type": "display_data"
    }
   ],
   "source": [
    "from typing import Annotated, TypedDict\n",
    "from langgraph.graph.message import add_messages\n",
    "from langgraph.graph.state import StateGraph\n",
    "from langchain_community.tools.tavily_search import TavilySearchResults\n",
    "from langchain_openai import ChatOpenAI\n",
    "from langgraph.prebuilt import ToolNode, tools_condition\n",
    "from langgraph.checkpoint.memory import MemorySaver\n",
    "from IPython.display import Image, display\n",
    "\n",
    "class State(TypedDict):\n",
    "    messages: Annotated[list, add_messages]\n",
    "\n",
    "graph_builder = StateGraph(State)\n",
    "\n",
    "tool = TavilySearchResults(max_results=2)\n",
    "tools = [tool]\n",
    "llm = ChatOpenAI(model=\"gpt-4o\")\n",
    "llm_with_tools = llm.bind_tools(tools)\n",
    "\n",
    "def chatbot(state: State):\n",
    "    return {\"messages\": [llm_with_tools.invoke(state[\"messages\"])]}\n",
    "\n",
    "tool_node = ToolNode(tools=tools)\n",
    "\n",
    "graph_builder.add_node(\"chatbot\", chatbot)\n",
    "graph_builder.set_entry_point(\"chatbot\")\n",
    "graph_builder.add_node(\"tools\", tool_node)\n",
    "graph_builder.add_edge(\"tools\", \"chatbot\")\n",
    "graph_builder.add_conditional_edges(\"chatbot\", tools_condition)\n",
    "\n",
    "memory = MemorySaver()\n",
    "graph = graph_builder.compile(\n",
    "    checkpointer=memory,\n",
    "    interrupt_before=[\"tools\"]\n",
    ")\n",
    "\n",
    "display(Image(graph.get_graph().draw_mermaid_png()))\n",
    "\n",
    "\n"
   ]
  },
  {
   "cell_type": "code",
   "execution_count": 26,
   "metadata": {},
   "outputs": [
    {
     "name": "stdout",
     "output_type": "stream",
     "text": [
      "==================================\u001b[1m Ai Message \u001b[0m==================================\n",
      "Tool Calls:\n",
      "  tavily_search_results_json (call_9s7ZfxbPU7IrhFxPJJbtwTGZ)\n",
      " Call ID: call_9s7ZfxbPU7IrhFxPJJbtwTGZ\n",
      "  Args:\n",
      "    query: langgraph programming language\n"
     ]
    }
   ],
   "source": [
    "\n",
    "user_input = \"I'm learning langgraph. Could you do some research on it for me?\"\n",
    "config = {\"configurable\": {\"thread_id\": \"1\"}}\n",
    "\n",
    "events = graph.stream(\n",
    "    {\"messages\": [(\"user\", user_input)]}, \n",
    "    config,\n",
    ")\n",
    "\n",
    "for e in events:\n",
    "    if \"messages\" in e:\n",
    "        e[\"messages\"][-1].pretty_print()\n",
    "\n",
    "\n",
    "snapshot = graph.get_state(config)\n",
    "existing_message = snapshot.values[\"messages\"][-1]\n",
    "existing_message.pretty_print()"
   ]
  },
  {
   "cell_type": "code",
   "execution_count": 27,
   "metadata": {},
   "outputs": [],
   "source": [
    "## 重点： "
   ]
  },
  {
   "cell_type": "code",
   "execution_count": 28,
   "metadata": {},
   "outputs": [
    {
     "name": "stdout",
     "output_type": "stream",
     "text": [
      "==================================\u001b[1m Ai Message \u001b[0m==================================\n",
      "\n",
      "Langgraph is a library for building stateful, multi-actor application with LLMs\n",
      "\n",
      "\n",
      "Last 2 messages\n",
      "[ToolMessage(content='Langgraph is a library for building stateful, multi-actor application with LLMs', id='e4dc52c7-010c-42fa-a89b-9293d10b9e4d', tool_call_id='call_9s7ZfxbPU7IrhFxPJJbtwTGZ'), AIMessage(content='Langgraph is a library for building stateful, multi-actor application with LLMs', additional_kwargs={}, response_metadata={}, id='bc76f360-3d12-42bf-addd-5708cef1a02a')]\n"
     ]
    }
   ],
   "source": [
    "from langchain_core.messages import AIMessage, ToolMessage\n",
    "\n",
    "answer = (\n",
    "    \"Langgraph is a library for building stateful, multi-actor application with LLMs\"\n",
    ")\n",
    "\n",
    "new_messages = [\n",
    "    ToolMessage(\n",
    "        content=answer, \n",
    "        tool_call_id=existing_message.tool_calls[0][\"id\"]\n",
    "    ),\n",
    "    AIMessage(content=answer),\n",
    "]\n",
    "\n",
    "new_messages[-1].pretty_print()\n",
    "graph.update_state(\n",
    "    config,\n",
    "    {\"messages\": new_messages},\n",
    ")\n",
    "\n",
    "print(\"\\n\\nLast 2 messages\")\n",
    "print(graph.get_state(config).values[\"messages\"][-2:])"
   ]
  }
 ],
 "metadata": {
  "kernelspec": {
   "display_name": ".venv",
   "language": "python",
   "name": "python3"
  },
  "language_info": {
   "codemirror_mode": {
    "name": "ipython",
    "version": 3
   },
   "file_extension": ".py",
   "mimetype": "text/x-python",
   "name": "python",
   "nbconvert_exporter": "python",
   "pygments_lexer": "ipython3",
   "version": "3.12.7"
  }
 },
 "nbformat": 4,
 "nbformat_minor": 2
}
